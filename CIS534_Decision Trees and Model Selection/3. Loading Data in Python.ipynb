{
 "cells": [
  {
   "cell_type": "markdown",
   "metadata": {},
   "source": [
    "<h2>About this Exercise</h2>\n",
    "<p>In this exercise, you will practice loading data with Python.</p>\n",
    "\n",
    "<h3>Evaluation</h3>\n",
    "\n",
    "<p><strong>You must attempt this exercise in order to unlock the final project in this module. You will not submit nor will you be graded on this exercise.</strong><p>"
   ]
  },
  {
   "cell_type": "markdown",
   "metadata": {},
   "source": [
    "<p>To load data in Python, you must first open the external file containing the data needed. You can then use the <code>readlines()</code> method, you can parse through each line in the file, assuming that each value of interest is separated by a newline character:</p>"
   ]
  },
  {
   "cell_type": "code",
   "execution_count": 1,
   "metadata": {},
   "outputs": [],
   "source": [
    "filename = 'sample.txt'\n",
    "entries = []\n",
    "\n",
    "# Take a provided filename and open it, calling it 'f'\n",
    "with open(filename, 'r') as f:\n",
    "    # Read each line\n",
    "    for x in f.readlines():\n",
    "        entries.append(x)\n"
   ]
  },
  {
   "cell_type": "markdown",
   "metadata": {},
   "source": [
    "<p>Let's take a look at a print out of the current data.</p>"
   ]
  },
  {
   "cell_type": "code",
   "execution_count": 2,
   "metadata": {},
   "outputs": [
    {
     "name": "stdout",
     "output_type": "stream",
     "text": [
      "['entry 1\\n', 'entry 2\\n', 'entry 3\\n', 'entry 4\\n', 'entry 5']\n"
     ]
    }
   ],
   "source": [
    "print(entries)"
   ]
  },
  {
   "cell_type": "markdown",
   "metadata": {},
   "source": [
    "<p>To remove the trailing newline characters ('\\n'), you can use the <code>rstrip()</code> method before appending:</p>"
   ]
  },
  {
   "cell_type": "code",
   "execution_count": 3,
   "metadata": {},
   "outputs": [],
   "source": [
    "filename = 'sample.txt'\n",
    "entries = []\n",
    "\n",
    "with open(filename, 'r') as f:\n",
    "    for x in f.readlines():\n",
    "        entries.append(x.rstrip())"
   ]
  },
  {
   "cell_type": "markdown",
   "metadata": {},
   "source": [
    "<p>Let's take a look at what the print out now looks like after <code>rstrip()</code>.</p>"
   ]
  },
  {
   "cell_type": "code",
   "execution_count": 4,
   "metadata": {},
   "outputs": [
    {
     "name": "stdout",
     "output_type": "stream",
     "text": [
      "['entry 1', 'entry 2', 'entry 3', 'entry 4', 'entry 5']\n"
     ]
    }
   ],
   "source": [
    "print(entries)"
   ]
  },
  {
   "cell_type": "markdown",
   "metadata": {},
   "source": [
    "An even more efficient and resilent method for constructing a vector is the following optimization:"
   ]
  },
  {
   "cell_type": "code",
   "execution_count": 5,
   "metadata": {},
   "outputs": [],
   "source": [
    "filename = 'sample.txt'\n",
    "with open(filename, 'r') as f:\n",
    "    entries = [x.rstrip() for x in f.readlines() if len(x) > 0]"
   ]
  },
  {
   "cell_type": "code",
   "execution_count": 6,
   "metadata": {},
   "outputs": [
    {
     "name": "stdout",
     "output_type": "stream",
     "text": [
      "['entry 1', 'entry 2', 'entry 3', 'entry 4', 'entry 5']\n"
     ]
    }
   ],
   "source": [
    "print(entries)"
   ]
  }
 ],
 "metadata": {
  "kernelspec": {
   "display_name": "Python 3",
   "language": "python",
   "name": "python3"
  },
  "language_info": {
   "codemirror_mode": {
    "name": "ipython",
    "version": 3
   },
   "file_extension": ".py",
   "mimetype": "text/x-python",
   "name": "python",
   "nbconvert_exporter": "python",
   "pygments_lexer": "ipython3",
   "version": "3.6.8"
  }
 },
 "nbformat": 4,
 "nbformat_minor": 2
}
